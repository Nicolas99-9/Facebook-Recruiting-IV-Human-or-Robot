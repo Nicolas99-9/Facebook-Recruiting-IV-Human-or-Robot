{
 "cells": [
  {
   "cell_type": "markdown",
   "metadata": {},
   "source": [
    "# Feature engineering and selection"
   ]
  },
  {
   "cell_type": "code",
   "execution_count": 1,
   "metadata": {
    "collapsed": false
   },
   "outputs": [],
   "source": [
    "import pandas as pd\n",
    "import numpy as np\n",
    "\n",
    "from collections import defaultdict"
   ]
  },
  {
   "cell_type": "code",
   "execution_count": 2,
   "metadata": {
    "collapsed": false
   },
   "outputs": [
    {
     "name": "stderr",
     "output_type": "stream",
     "text": [
      "/usr/local/lib/python2.7/dist-packages/ipykernel/__main__.py:6: FutureWarning: sort(columns=....) is deprecated, use sort_values(by=.....)\n"
     ]
    }
   ],
   "source": [
    "def load_data_set():\n",
    "    train_data = pd.read_csv('train.csv')\n",
    "    test = pd.read_csv('test.csv')\n",
    "    test[\"outcome\"] = 9\n",
    "    bids = pd.read_csv('bids.csv')\n",
    "    bids = bids.sort(['auction', 'time'])\n",
    "    return train_data,bids,test\n",
    "\n",
    "train,bids,test = load_data_set()"
   ]
  },
  {
   "cell_type": "code",
   "execution_count": 53,
   "metadata": {
    "collapsed": false
   },
   "outputs": [
    {
     "data": {
      "text/plain": [
       "'How to detect a bot ?\\nSame ip\\nFast biding\\nBid faster than human\\n#\\naverage time between two bids\\ntime since bid starting\\nnumber of bids\\nmax time\\n\\nfaire par rapport aux autres utilisateurs et faire par rapport a lui meme\\naverage number of bids per auction\\nmax number of bids per auction\\n'"
      ]
     },
     "execution_count": 53,
     "metadata": {},
     "output_type": "execute_result"
    }
   ],
   "source": [
    "'''\n",
    "Alors fonction generer pour les bids l'ensemble des donnees suivantes : \n",
    "Pour chaque vente : temps moyen,max, std et min entre deux bids d une meme personne\n",
    "                    temps moyen,max, st entre deux bids\n",
    "                    nombre de bids max, min, et moyen de chaque utilisateur \n",
    "sauvegarde des resultats dans 3 csv differents\n",
    "'''\n",
    "def time_into_auction(train,bids,test):\n",
    "    human = train[train.outcome==0].bidder_id\n",
    "    bot = train[train.outcome==1].bidder_id\n",
    "    grouped = bids.groupby('auction')\n",
    "    done = -5\n",
    "    #temps de bid par rapport aux dans une meme vente\n",
    "    times_df = {}\n",
    "    #temps de bid par rapport a soit meme pour chaque vente\n",
    "    bid_himselft = {}\n",
    "    #number of bids:\n",
    "    number_bids = {}\n",
    "    remaining = len(grouped)\n",
    "    for bides in grouped:\n",
    "        sub_data= bides[1]\n",
    "        difference=  [0,0]\n",
    "        last_bids = {}\n",
    "        current_bids = {}\n",
    "        for acc in sub_data.iterrows():\n",
    "            i,line = acc\n",
    "            cle = line['bidder_id']\n",
    "            if difference[0] == 0:\n",
    "                difference[0] = line['time']\n",
    "            else:\n",
    "                if not cle in times_df:\n",
    "                    times_df[cle] = []\n",
    "                times_df[cle].append(line['time']-difference[0])\n",
    "                difference[0] = line['time']\n",
    "            if cle not in last_bids:\n",
    "                last_bids[cle] = (line['time'],[])\n",
    "            else:\n",
    "                last_bids[cle][1].append(line['time']-last_bids[cle][0])\n",
    "                last_bids[cle] = (line['time'],last_bids[cle][1])\n",
    "            if cle not in current_bids:\n",
    "                current_bids[cle] = 1\n",
    "            else:\n",
    "                current_bids[cle] +=1\n",
    "        #fusion des dictionnaires\n",
    "        for c in current_bids:\n",
    "            if not c in number_bids:\n",
    "                number_bids[c] = [current_bids[c]]\n",
    "            else:\n",
    "                number_bids[c].append(current_bids[c])\n",
    "        for c in last_bids:\n",
    "            if not c in bid_himselft and len(last_bids[c][1])>0:\n",
    "                bid_himselft[c] = last_bids[c]\n",
    "            elif  len(last_bids[c][1])>0:\n",
    "                bid_himselft[c] += last_bids[c]\n",
    "        if remaining %200 ==0:\n",
    "            print(\"remaining : \", remaining)\n",
    "        remaining -=1\n",
    "    df = []\n",
    "    for cle in times_df.keys():\n",
    "        df.append({'bidder_id': cle, 'mean_autres': np.mean(times_df[cle]),\n",
    "    'min_autres': np.min(times_df[cle]), 'max_autres': np.max(times_df[cle]),'std_autres': np.std(times_df[cle])})\n",
    "    pd.DataFrame(df).to_csv('res/time_auction.csv', index=False)\n",
    "    df = []\n",
    "    for cle in number_bids.keys():\n",
    "        df.append({'bidder_id': cle, 'mean_number_bids': np.mean(number_bids[cle]),\n",
    "    'min_number_bids': np.min(number_bids[cle]), 'max_number_bids': np.max(number_bids[cle]),\n",
    "    'number_bids': len(number_bids[cle]),'std_number_bids': np.std(number_bids[cle])})\n",
    "    pd.DataFrame(df).to_csv('res/bids_number.csv', index=False)\n",
    "    df  = []\n",
    "    for cle in bid_himselft.keys():\n",
    "        val = bid_himselft[cle][1]\n",
    "        df.append({'bidder_id': cle, 'mean_time_bids': np.mean(val),\n",
    "    'min_time bids': np.min(val), 'max_time_bids': np.max(val),\n",
    "    'number_of_auctions_bids': len(val),'std_time_bids': np.std(val)})\n",
    "    pd.DataFrame(df).to_csv('res/himslef_time.csv', index=False)\n",
    "\n",
    "recreate_feature = False\n",
    "if recreate_feature:\n",
    "    time_into_auction(train,bids,test)\n",
    "\n",
    "'''How to detect a bot ?\n",
    "Same ip\n",
    "Fast biding\n",
    "Bid faster than human\n",
    "#\n",
    "average time between two bids\n",
    "time since bid starting\n",
    "number of bids\n",
    "max time\n",
    "\n",
    "faire par rapport aux autres utilisateurs et faire par rapport a lui meme\n",
    "average number of bids per auction\n",
    "max number of bids per auction\n",
    "'''"
   ]
  },
  {
   "cell_type": "code",
   "execution_count": null,
   "metadata": {
    "collapsed": true
   },
   "outputs": [],
   "source": [
    "# generate the features using the features created before\n",
    "def feature_creation():\n",
    "    print(\"ok\")"
   ]
  }
 ],
 "metadata": {
  "kernelspec": {
   "display_name": "Python 2",
   "language": "python",
   "name": "python2"
  },
  "language_info": {
   "codemirror_mode": {
    "name": "ipython",
    "version": 2
   },
   "file_extension": ".py",
   "mimetype": "text/x-python",
   "name": "python",
   "nbconvert_exporter": "python",
   "pygments_lexer": "ipython2",
   "version": "2.7.12"
  }
 },
 "nbformat": 4,
 "nbformat_minor": 1
}
